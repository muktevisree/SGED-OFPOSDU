{
 "cells": [
  {
   "cell_type": "markdown",
   "id": "acbc1d0e",
   "metadata": {},
   "source": [
    "# SGED-OFPOSDU — Quick Start Notebook\n",
    "\n",
    "This notebook demonstrates how to load, explore, and visualize the **SGED-OFPOSDU** dataset (synthetic GHG emissions mapped to **OFP** and **OSDU**).\n",
    "\n",
    "**What you'll see here:**\n",
    "1. Load the dataset (from `data/` if present, otherwise from the CSV filename).\n",
    "2. Basic schema checks (required columns, non-null ratios, simple ranges).\n",
    "3. A couple of quick visualizations (e.g., Scope 1 vs Scope 2 by facility, emissions over time).\n",
    "\n",
    "> Tip: Install requirements if needed:\n",
    "> ```bash\n",
    "> pip install pandas matplotlib\n",
    "> ```\n",
    "\n",
    "*Notebook created on 2025-08-16.*\n"
   ]
  },
  {
   "cell_type": "code",
   "execution_count": null,
   "id": "3e0c7767",
   "metadata": {},
   "outputs": [],
   "source": [
    "import os\n",
    "import pandas as pd\n",
    "import matplotlib.pyplot as plt\n",
    "\n",
    "# Charting rules for this project:\n",
    "# - Use matplotlib (no seaborn)\n",
    "# - Single chart per figure (no subplots)\n",
    "# - Do not set explicit colors or styles unless needed for clarity\n"
   ]
  },
  {
   "cell_type": "code",
   "execution_count": null,
   "id": "a7e08777",
   "metadata": {},
   "outputs": [],
   "source": [
    "# Try common repo paths; fall back to local filename if running ad hoc\n",
    "possible_paths = [\n",
    "    \"data/SGED_OFPOSDU_v1.0.csv\",\n",
    "    \"dataset/SGED_OFPOSDU_v1.0.csv\",\n",
    "    \"SGED_OFPOSDU_v1.0.csv\",\n",
    "    \"GHG_OFP_OSDU_Final32_500_V1.0.csv\"  # fallback filename used earlier\n",
    "]\n",
    "\n",
    "csv_path = None\n",
    "for p in possible_paths:\n",
    "    if os.path.exists(p):\n",
    "        csv_path = p\n",
    "        break\n",
    "\n",
    "if csv_path is None:\n",
    "    raise FileNotFoundError(\"Could not find the dataset. Place the CSV in ./data or ./dataset and rerun.\")\n",
    "\n",
    "print(f\"Using dataset: {csv_path}\")\n",
    "df = pd.read_csv(csv_path)\n",
    "df.head()\n"
   ]
  },
  {
   "cell_type": "markdown",
   "id": "e4b20edd",
   "metadata": {},
   "source": [
    "## Basic Schema Checks"
   ]
  },
  {
   "cell_type": "code",
   "execution_count": null,
   "id": "c4bc93dd",
   "metadata": {},
   "outputs": [],
   "source": [
    "required_cols = [\n",
    "    \"Facility_ID\",\"Facility_Name\",\"Facility_Type\",\n",
    "    \"Latitude\",\"Longitude\",\"Reporting_Year\",\"Month\",\n",
    "    \"Emission_Type\",\"Emission_Value_tCO2e\",\n",
    "    \"Scope_1_tCO2e\",\"Scope_2_tCO2e\",\"Scope_3_tCO2e\",\n",
    "    \"Activity_Type\",\"Production_Volume\",\"Production_Unit\"\n",
    "]\n",
    "\n",
    "missing = [c for c in required_cols if c not in df.columns]\n",
    "print(\"Missing required columns:\", missing)\n",
    "\n",
    "print(\"\\nRow count:\", len(df))\n",
    "print(\"Column count:\", len(df.columns))\n",
    "\n",
    "# Non-null ratios\n",
    "non_null = df.notna().mean().sort_values(ascending=True)\n",
    "non_null.head(10), non_null.tail(10)\n"
   ]
  },
  {
   "cell_type": "markdown",
   "id": "ccb30a85",
   "metadata": {},
   "source": [
    "## Plausibility Checks (simple heuristics)"
   ]
  },
  {
   "cell_type": "code",
   "execution_count": null,
   "id": "90440a4c",
   "metadata": {},
   "outputs": [],
   "source": [
    "checks = {}\n",
    "\n",
    "# Emissions should be non-negative\n",
    "for col in [\"Emission_Value_tCO2e\",\"Scope_1_tCO2e\",\"Scope_2_tCO2e\",\"Scope_3_tCO2e\"]:\n",
    "    if col in df.columns:\n",
    "        neg_count = (df[col] < 0).sum()\n",
    "        checks[col] = {\"negatives\": int(neg_count)}\n",
    "\n",
    "# Lat/Long ranges\n",
    "if \"Latitude\" in df.columns:\n",
    "    checks[\"Latitude_range\"] = {\"min\": float(df[\"Latitude\"].min()), \"max\": float(df[\"Latitude\"].max())}\n",
    "if \"Longitude\" in df.columns:\n",
    "    checks[\"Longitude_range\"] = {\"min\": float(df[\"Longitude\"].min()), \"max\": float(df[\"Longitude\"].max())}\n",
    "\n",
    "checks\n"
   ]
  },
  {
   "cell_type": "markdown",
   "id": "015626ff",
   "metadata": {},
   "source": [
    "## Plot: Scope 1 vs Scope 2 by Facility (Top 20 by total)"
   ]
  },
  {
   "cell_type": "code",
   "execution_count": null,
   "id": "f20f6c3f",
   "metadata": {},
   "outputs": [],
   "source": [
    "if {\"Facility_Name\",\"Scope_1_tCO2e\",\"Scope_2_tCO2e\"}.issubset(df.columns):\n",
    "    top = (df.groupby(\"Facility_Name\")[[\"Scope_1_tCO2e\",\"Scope_2_tCO2e\"]]\n",
    "             .sum()\n",
    "             .sort_values(by=[\"Scope_1_tCO2e\",\"Scope_2_tCO2e\"], ascending=False)\n",
    "             .head(20))\n",
    "    ax = top.plot(kind=\"bar\", figsize=(10,5))\n",
    "    ax.set_title(\"Scope 1 vs Scope 2 by Facility (Top 20)\")\n",
    "    ax.set_xlabel(\"Facility\")\n",
    "    ax.set_ylabel(\"tCO2e\")\n",
    "    plt.tight_layout()\n",
    "    plt.show()\n",
    "else:\n",
    "    print(\"Required columns not present for this plot.\")\n"
   ]
  },
  {
   "cell_type": "markdown",
   "id": "88a8f734",
   "metadata": {},
   "source": [
    "## Plot: Total Emissions Over Time (Year-Month)"
   ]
  },
  {
   "cell_type": "code",
   "execution_count": null,
   "id": "62b2f82c",
   "metadata": {},
   "outputs": [],
   "source": [
    "if {\"Reporting_Year\",\"Month\",\"Emission_Value_tCO2e\"}.issubset(df.columns):\n",
    "    ym = df[\"Reporting_Year\"].astype(str) + \"-\" + df[\"Month\"].astype(int).astype(str).str.zfill(2)\n",
    "    s = df.assign(YearMonth=ym).groupby(\"YearMonth\")[\"Emission_Value_tCO2e\"].sum()\n",
    "    s = s.sort_index()\n",
    "    plt.figure(figsize=(10,4))\n",
    "    s.plot()\n",
    "    plt.title(\"Total Emissions Over Time (sum of Emission_Value_tCO2e)\")\n",
    "    plt.xlabel(\"Year-Month\")\n",
    "    plt.ylabel(\"tCO2e\")\n",
    "    plt.tight_layout()\n",
    "    plt.show()\n",
    "else:\n",
    "    print(\"Required columns not present for this plot.\")\n"
   ]
  },
  {
   "cell_type": "markdown",
   "id": "833d0f4f",
   "metadata": {},
   "source": [
    "### Join Keys\n",
    "- Use `Facility_ID` (or `Facility_Name` as a fallback) to join with OSDU Facility master data.\n",
    "- `Asset` can be used to join with OSDU Asset master data if present.\n",
    "- For emissions analytics, pair `Emission_Type` with `Emission_Value_tCO2e` and the scope fields.\n"
   ]
  }
 ],
 "metadata": {},
 "nbformat": 4,
 "nbformat_minor": 5
}
